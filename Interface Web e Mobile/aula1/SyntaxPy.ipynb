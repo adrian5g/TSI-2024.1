{
 "cells": [
  {
   "cell_type": "code",
   "execution_count": null,
   "metadata": {
    "colab": {
     "base_uri": "https://localhost:8080/"
    },
    "executionInfo": {
     "elapsed": 768,
     "status": "ok",
     "timestamp": 1728667035216,
     "user": {
      "displayName": "Onyle",
      "userId": "03160151393449119007"
     },
     "user_tz": 180
    },
    "id": "GOIurbNBkkxZ",
    "outputId": "41012c70-6ca6-4708-dc07-45907fdba2db"
   },
   "outputs": [
    {
     "name": "stdout",
     "output_type": "stream",
     "text": [
      "Olá mundo!\n"
     ]
    }
   ],
   "source": [
    "print(\"Olá mundo!\")"
   ]
  },
  {
   "cell_type": "markdown",
   "metadata": {
    "id": "26-8wlR_l-m-"
   },
   "source": [
    "Tipos de dados em python\n",
    "- inteiro\n",
    "- real\n",
    "- texto\n",
    "- booleano\n"
   ]
  },
  {
   "cell_type": "code",
   "execution_count": 2,
   "metadata": {
    "executionInfo": {
     "elapsed": 378,
     "status": "ok",
     "timestamp": 1728667441789,
     "user": {
      "displayName": "Onyle",
      "userId": "03160151393449119007"
     },
     "user_tz": 180
    },
    "id": "sMT04Qxpl4mL"
   },
   "outputs": [],
   "source": [
    "quantidade = 20\n",
    "nota = 8.5\n",
    "nome = \"igor Ádrian\"\n",
    "maiorIdade = True\n"
   ]
  },
  {
   "cell_type": "markdown",
   "metadata": {
    "id": "dNUmbhg_m6qR"
   },
   "source": []
  },
  {
   "cell_type": "markdown",
   "metadata": {
    "id": "-y6vkJGjnd85"
   },
   "source": [
    "Formas de comentar em Python"
   ]
  },
  {
   "cell_type": "code",
   "execution_count": null,
   "metadata": {
    "id": "vOc1LJ0Mna97"
   },
   "outputs": [],
   "source": [
    "# Comentário em uma linha\n",
    "\n",
    "\"\"\"\n",
    "Comentário\n",
    "em várias\n",
    "linhas\n",
    "\"\"\"\n",
    "\n",
    "'''\n",
    "outra forma de\n",
    "comentário em várias linhas\n",
    "'''"
   ]
  },
  {
   "cell_type": "code",
   "execution_count": 10,
   "metadata": {
    "colab": {
     "base_uri": "https://localhost:8080/"
    },
    "executionInfo": {
     "elapsed": 11628,
     "status": "ok",
     "timestamp": 1728670626786,
     "user": {
      "displayName": "Onyle",
      "userId": "03160151393449119007"
     },
     "user_tz": 180
    },
    "id": "2anHDaGBnib1",
    "outputId": "90eddf10-3534-49a5-cebc-629c1b72413c"
   },
   "outputs": [
    {
     "name": "stdout",
     "output_type": "stream",
     "text": [
      "Digite seu nome: Igor Ádrian\n",
      "Igor Ádrian\n",
      "Digite sua idade: 19\n",
      "A sua idade é 19\n"
     ]
    }
   ],
   "source": [
    "# Entrada de dados\n",
    "\n",
    "'''\n",
    "a função input serve para entrada de dados e sempre\n",
    "retorna TEXTO\n",
    "'''\n",
    "\n",
    "nome = input(\"Digite seu nome: \")\n",
    "print(nome)\n",
    "\n",
    "idade = int(input(\"Digite sua idade: \"))\n",
    "print(\"A sua idade é\", idade)\n"
   ]
  },
  {
   "cell_type": "code",
   "execution_count": 12,
   "metadata": {
    "colab": {
     "base_uri": "https://localhost:8080/"
    },
    "executionInfo": {
     "elapsed": 7072,
     "status": "ok",
     "timestamp": 1728670650945,
     "user": {
      "displayName": "Onyle",
      "userId": "03160151393449119007"
     },
     "user_tz": 180
    },
    "id": "RDFGzi9KylqV",
    "outputId": "522d8b3e-2d03-4794-d8c4-2faa3c7b7d5d"
   },
   "outputs": [
    {
     "name": "stdout",
     "output_type": "stream",
     "text": [
      "Digite a sua nota: 8.5\n",
      "Nota:  8.5\n"
     ]
    }
   ],
   "source": [
    "nota = float(input(\"Digite a sua nota: \"))\n",
    "print(\"Nota: \", nota)"
   ]
  },
  {
   "cell_type": "code",
   "execution_count": 19,
   "metadata": {
    "colab": {
     "base_uri": "https://localhost:8080/"
    },
    "executionInfo": {
     "elapsed": 5965,
     "status": "ok",
     "timestamp": 1728671259958,
     "user": {
      "displayName": "Onyle",
      "userId": "03160151393449119007"
     },
     "user_tz": 180
    },
    "id": "NhMEiEIzzNxw",
    "outputId": "20d1eaf9-2686-42ac-e12e-ecf7b5ff4459"
   },
   "outputs": [
    {
     "name": "stdout",
     "output_type": "stream",
     "text": [
      "Digite o primeiro número inteiro: 2\n",
      "Digite o segundo número inteiro: 7\n",
      "A média 4.5\n"
     ]
    }
   ],
   "source": [
    "'''\n",
    "Peça para o usuário digitar dois números\n",
    "inteiros, ao final o programa deve imprimir a média entre eles\n",
    "'''\n",
    "\n",
    "numero1 = int(input(\"Digite o primeiro número inteiro: \"))\n",
    "numero2 = int(input(\"Digite o segundo número inteiro: \"))\n",
    "media = (numero1+numero2)/2\n",
    "print(\"A média\", media)"
   ]
  },
  {
   "cell_type": "code",
   "execution_count": 21,
   "metadata": {
    "colab": {
     "base_uri": "https://localhost:8080/"
    },
    "executionInfo": {
     "elapsed": 537,
     "status": "ok",
     "timestamp": 1728671292309,
     "user": {
      "displayName": "Onyle",
      "userId": "03160151393449119007"
     },
     "user_tz": 180
    },
    "id": "ntlxu_vL1igx",
    "outputId": "08bc74e2-c359-41c7-95b1-383316252042"
   },
   "outputs": [
    {
     "name": "stdout",
     "output_type": "stream",
     "text": [
      "3\n",
      "3.3333333333333335\n",
      "8\n"
     ]
    }
   ],
   "source": [
    "'''\n",
    "exitem operadores aritméticos novos, são eles:\n",
    "// divisão de inteiros\n",
    "** Potenciação\n",
    "'''\n",
    "\n",
    "print(10//3)\n",
    "print(10/3) # divisão normal\n",
    "print(2**3)"
   ]
  },
  {
   "cell_type": "code",
   "execution_count": null,
   "metadata": {
    "id": "PgWwv9Dq1u7r"
   },
   "outputs": [],
   "source": []
  },
  {
   "cell_type": "code",
   "execution_count": 24,
   "metadata": {
    "colab": {
     "base_uri": "https://localhost:8080/"
    },
    "executionInfo": {
     "elapsed": 1016,
     "status": "ok",
     "timestamp": 1728671777604,
     "user": {
      "displayName": "Onyle",
      "userId": "03160151393449119007"
     },
     "user_tz": 180
    },
    "id": "paQZKibY2gqA",
    "outputId": "a6a15900-d6a9-4a7f-94c7-3c30d362a00d"
   },
   "outputs": [
    {
     "name": "stdout",
     "output_type": "stream",
     "text": [
      "True\n",
      "True\n",
      "False\n",
      "True\n",
      "False\n",
      "True\n"
     ]
    }
   ],
   "source": [
    "'''\n",
    "Operadores condicionais/comparação\n",
    "\n",
    "compara 2 valores e\n",
    "SEMPRE RETORNAM VALOR BOOLEANO\n",
    "'''\n",
    "\n",
    "print(5>4)\n",
    "print(10<15)\n",
    "print(10<10)\n",
    "print(10<=10)\n",
    "print(15==5)\n",
    "print(7!=2)\n"
   ]
  },
  {
   "cell_type": "code",
   "execution_count": null,
   "metadata": {
    "id": "WCvxsd5m3ewT"
   },
   "outputs": [],
   "source": [
    "'''\n",
    "Operadores lógicos\n",
    "\n",
    "servem para comparar valores lógicos\n",
    "e retornam valores lógicos/booleanos\n",
    "'''\n",
    "\n",
    "print( (10>5) and (10 !=5) ) # e  (só é verdade se as duas forem verdadeira)\n",
    "print( (10>5) or (10 !=5) )  # ou (só é verdade se pelo menos uma for verdadeira)\n",
    "print( not(10!=5) ) # inverte/nega um valor lógico (ex: \"não True\" = false)\n"
   ]
  },
  {
   "cell_type": "code",
   "execution_count": 28,
   "metadata": {
    "colab": {
     "base_uri": "https://localhost:8080/"
    },
    "executionInfo": {
     "elapsed": 469,
     "status": "ok",
     "timestamp": 1728672758375,
     "user": {
      "displayName": "Onyle",
      "userId": "03160151393449119007"
     },
     "user_tz": 180
    },
    "id": "dNVoRDXm5Nrf",
    "outputId": "beab63b3-8c8c-4941-d397-c941fc76a7fc"
   },
   "outputs": [
    {
     "name": "stdout",
     "output_type": "stream",
     "text": [
      "negativo\n"
     ]
    }
   ],
   "source": [
    "'''\n",
    "Estruturas condicionais\n",
    "\n",
    "if         (se)\n",
    "if...else  (se...caso contrário)\n",
    "elif       (caso contrário se)\n",
    "\n",
    "Estrutura:\n",
    "if condição:\n",
    "else:\n",
    "elif condição:\n",
    "'''\n",
    "\n",
    "numero = -1\n",
    "if numero > 0:\n",
    "  print(\"positivo\")\n",
    "elif numero == 0:\n",
    "  print(\"neutro\")\n",
    "else:\n",
    "  print(\"negativo\")"
   ]
  },
  {
   "cell_type": "code",
   "execution_count": 29,
   "metadata": {
    "colab": {
     "base_uri": "https://localhost:8080/"
    },
    "executionInfo": {
     "elapsed": 349,
     "status": "ok",
     "timestamp": 1728673324998,
     "user": {
      "displayName": "Onyle",
      "userId": "03160151393449119007"
     },
     "user_tz": 180
    },
    "id": "QFGLG6tV7ehk",
    "outputId": "32bd6ce0-fb98-4a14-86a2-5ac46b66fc16"
   },
   "outputs": [
    {
     "name": "stdout",
     "output_type": "stream",
     "text": [
      "Ádrian\n"
     ]
    }
   ],
   "source": [
    "'''\n",
    "Lista de dados\n",
    "Armazena em uma variável vários valores\n",
    "ao mesmo tempo\n",
    "Utiliza colchetes []\n",
    "'''\n",
    "\n",
    "numeros = [5, 2, 10, -2]\n",
    "notas = [8.5, 4.3]\n",
    "aceite = [True, False, False, True]\n",
    "nomes = [\"Igor\", \"Ádrian\", \"Bruno\"]\n",
    "misturada = [5, 10.4, True, \"Igor\"]\n",
    "\n",
    "# a posição dos elementos se chama índice (obs: os índices começam do número 0)\n",
    "\n",
    "print(nomes[1]) # imprimindo o nome \"Igor\" que está na lista 'nomes'\n"
   ]
  },
  {
   "cell_type": "code",
   "execution_count": 39,
   "metadata": {
    "colab": {
     "base_uri": "https://localhost:8080/"
    },
    "executionInfo": {
     "elapsed": 4207,
     "status": "ok",
     "timestamp": 1728673732741,
     "user": {
      "displayName": "Onyle",
      "userId": "03160151393449119007"
     },
     "user_tz": 180
    },
    "id": "ye0otQX89qrp",
    "outputId": "156e96a9-a767-4b4f-e735-059f19c34665"
   },
   "outputs": [
    {
     "name": "stdout",
     "output_type": "stream",
     "text": [
      "1\n",
      "2\n",
      "3\n",
      "4\n",
      "5\n",
      "Com range:\n",
      "0\n",
      "1\n",
      "2\n",
      "3\n",
      "4\n",
      "5\n",
      "6\n",
      "7\n",
      "8\n",
      "9\n"
     ]
    }
   ],
   "source": [
    "'''\n",
    "Repetição\n",
    "\n",
    "Sempre utilizo listas\n",
    "'''\n",
    "\n",
    "for (numero) in [1, 2, 3, 4, 5]:\n",
    "  print(numero)\n",
    "\n",
    "# com range\n",
    "print(\"Com range:\")\n",
    "\n",
    "for (numero) in range(5): # Começa do 0\n",
    "  print(numero)\n",
    "\n",
    "for (numero) in range(5, 10): # Começa do 5\n",
    "  print(numero)"
   ]
  },
  {
   "cell_type": "code",
   "execution_count": 40,
   "metadata": {
    "colab": {
     "base_uri": "https://localhost:8080/"
    },
    "executionInfo": {
     "elapsed": 424,
     "status": "ok",
     "timestamp": 1728673838824,
     "user": {
      "displayName": "Onyle",
      "userId": "03160151393449119007"
     },
     "user_tz": 180
    },
    "id": "1xSwUM_w_Gjs",
    "outputId": "ffeb27f3-5a56-4a89-a2ef-1eb40c73af43"
   },
   "outputs": [
    {
     "name": "stdout",
     "output_type": "stream",
     "text": [
      "1\n",
      "3\n",
      "5\n",
      "7\n",
      "9\n"
     ]
    }
   ],
   "source": [
    "for numero in range(1, 10, 2): # o terceiro valor significa incremento, ou seja: aqui vamos pular de 2 em 2\n",
    "  print(numero)"
   ]
  },
  {
   "cell_type": "code",
   "execution_count": 1,
   "metadata": {
    "colab": {
     "base_uri": "https://localhost:8080/"
    },
    "executionInfo": {
     "elapsed": 1011,
     "status": "ok",
     "timestamp": 1728681826898,
     "user": {
      "displayName": "Onyle",
      "userId": "03160151393449119007"
     },
     "user_tz": 180
    },
    "id": "2Bl2yb6L_X_I",
    "outputId": "37ea859e-5ab8-4087-c9dc-e933439d25cd"
   },
   "outputs": [
    {
     "name": "stdout",
     "output_type": "stream",
     "text": [
      "Canguaretama\n",
      "IFRN\n",
      "TSI\n",
      "Bruno  123  1\n",
      "Igor  567  2\n",
      "Admin  891  1\n"
     ]
    }
   ],
   "source": [
    "'''\n",
    "Função\n",
    "\n",
    "útil para evitar reescrever código\n",
    "'''\n",
    "\n",
    "# Função vazia\n",
    "def nome():\n",
    "  pass\n",
    "\n",
    "# Função sem retorno e sem parâmetros\n",
    "def campus():\n",
    "  print(\"Canguaretama\")\n",
    "\n",
    "campus() # chamando a função 'campus'\n",
    "\n",
    "# Função sem retorno e com parâmetro\n",
    "def instituto(nome):\n",
    "  print(nome)\n",
    "\n",
    "instituto(\"IFRN\")  # chamando a função 'instituto' com o parâmetro 'nome' recebendo o valor \"IFRN\"\n",
    "\n",
    "# Função com retorno e sem parâmetro\n",
    "def curso():\n",
    "  return \"TSI\"\n",
    "\n",
    "print(curso()) # printa o valor que a função 'curso' retorna\n",
    "\n",
    "# Função com argumentos nomeados\n",
    "def login(usuario, senha, permissao):\n",
    "  print(usuario,\"\",senha,\"\",permissao)\n",
    "\n",
    "login(\"Bruno\", \"123\", \"1\")\n",
    "login(senha=\"567\", usuario=\"Igor\", permissao=\"2\")\n",
    "\n",
    "# Função com argumentos \"predefinidos\" ou \"default\"\n",
    "def login(usuario = \"Admin\", senha = \"891\", permissao=\"1\"):\n",
    "  print(usuario,\"\",senha,\"\",permissao)\n",
    "\n",
    "login()"
   ]
  }
 ],
 "metadata": {
  "colab": {
   "authorship_tag": "ABX9TyOTFeXAsoO68n2v+xm+QXeb",
   "provenance": []
  },
  "kernelspec": {
   "display_name": "Python 3",
   "name": "python3"
  },
  "language_info": {
   "name": "python"
  }
 },
 "nbformat": 4,
 "nbformat_minor": 0
}
